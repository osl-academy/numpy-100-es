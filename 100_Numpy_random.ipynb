{
 "cells": [
  {
   "cell_type": "markdown",
   "id": "d6970cd8",
   "metadata": {},
   "source": [
    "# 100 ejercicios de numpy\n",
    "\n",
    "Esta es una colección de ejercicios recogidos de distintas fuentes como: numpy mailing list, stackoverflow Y\n",
    "documentación de numpy. El objetivo de esta colección es ofrecer material para el aprendizaje de numpy.\n",
    "\n",
    "Este repositorio es una traducción del español del repositorio original en ingles \n",
    "[Respositorio de rougier](https://github.com/rougier/numpy-100)."
   ]
  },
  {
   "cell_type": "markdown",
   "id": "616f5bcf",
   "metadata": {},
   "source": [
    "Archivos generados de manera automática. Vea la documentación para cambiar preguntas/respuestas/ayudas (questions/answers/hints)"
   ]
  },
  {
   "cell_type": "markdown",
   "id": "938ce200",
   "metadata": {},
   "source": [
    "Run the `initialize.py` module, then call a random question with `pick()` an hint towards its solution with\n",
    "`hint(n)` and the answer with `answer(n)`, where n is the number of the picked question."
   ]
  },
  {
   "cell_type": "code",
   "execution_count": null,
   "id": "71058f59",
   "metadata": {},
   "outputs": [],
   "source": [
    "%run initialise.py"
   ]
  },
  {
   "cell_type": "code",
   "execution_count": null,
   "id": "2e16f4ba",
   "metadata": {},
   "outputs": [],
   "source": [
    "pick()"
   ]
  }
 ],
 "metadata": {},
 "nbformat": 4,
 "nbformat_minor": 5
}
