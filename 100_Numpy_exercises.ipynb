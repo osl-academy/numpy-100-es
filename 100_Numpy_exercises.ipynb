{
 "cells": [
  {
   "cell_type": "markdown",
   "id": "c1aefba2",
   "metadata": {},
   "source": [
    "# 100 ejercicios de numpy\n",
    "\n",
    "Esta es una colección de ejercicios recogidos de distintas fuentes como: numpy mailing list, stackoverflow Y\n",
    "documentación de numpy. El objetivo de esta colección es ofrecer material para el aprendizaje de numpy.\n",
    "\n",
    "Este repositorio es una traducción del español del repositorio original en ingles \n",
    "[Respositorio de rougier](https://github.com/rougier/numpy-100)."
   ]
  },
  {
   "cell_type": "markdown",
   "id": "9a4aa8ac",
   "metadata": {},
   "source": [
    "Archivos generados de manera automática. Vea la documentación para cambiar preguntas/respuestas/ayudas (questions/answers/hints)"
   ]
  },
  {
   "cell_type": "markdown",
   "id": "2ead7260",
   "metadata": {},
   "source": [
    "Ejecute `initialize.py`, para que puedas consultar la respuesta `answer(n)` y una ayuda\n",
    "`hint(n)` siendo `n` el número de la pregunta."
   ]
  },
  {
   "cell_type": "code",
   "execution_count": null,
   "id": "de6c3290",
   "metadata": {},
   "outputs": [],
   "source": [
    "\"!pip install mdutils"
   ]
  },
  {
   "cell_type": "code",
   "execution_count": null,
   "id": "04d61c74",
   "metadata": {},
   "outputs": [],
   "source": [
    "%run initialise.py"
   ]
  },
  {
   "cell_type": "markdown",
   "id": "5b625bae",
   "metadata": {},
   "source": [
    "#### 1. Importa el paquete `numpy` como `np` (★☆☆)"
   ]
  },
  {
   "cell_type": "code",
   "execution_count": null,
   "id": "fd12831d",
   "metadata": {},
   "outputs": [],
   "source": []
  },
  {
   "cell_type": "markdown",
   "id": "60618b66",
   "metadata": {},
   "source": [
    "#### 2. Imprima por pantalla la versión y la configuración de numpy (★☆☆)"
   ]
  },
  {
   "cell_type": "code",
   "execution_count": null,
   "id": "7796b5f0",
   "metadata": {},
   "outputs": [],
   "source": []
  },
  {
   "cell_type": "markdown",
   "id": "10a433b3",
   "metadata": {},
   "source": [
    "#### 3. Cree un vector null de tamaño 10 (vector de zeros)(★☆☆)"
   ]
  },
  {
   "cell_type": "code",
   "execution_count": null,
   "id": "d960243c",
   "metadata": {},
   "outputs": [],
   "source": []
  },
  {
   "cell_type": "markdown",
   "id": "cedabd79",
   "metadata": {},
   "source": [
    "#### 4. Como encuentra el tamaño en memoria de un array (★☆☆)"
   ]
  },
  {
   "cell_type": "code",
   "execution_count": null,
   "id": "52a2eba4",
   "metadata": {},
   "outputs": [],
   "source": []
  },
  {
   "cell_type": "markdown",
   "id": "79d0873b",
   "metadata": {},
   "source": [
    "#### 5. ¿Cómo obtiene la documentación de numpy desde la terminal (comando de línea)? (★☆☆)"
   ]
  },
  {
   "cell_type": "code",
   "execution_count": null,
   "id": "155550be",
   "metadata": {},
   "outputs": [],
   "source": []
  },
  {
   "cell_type": "markdown",
   "id": "26f686d9",
   "metadata": {},
   "source": [
    "#### 6. Crea un vector de ceros de tamaño 10 cuyo valor en la quinta posición sea 1 (★☆☆)"
   ]
  },
  {
   "cell_type": "code",
   "execution_count": null,
   "id": "9a481053",
   "metadata": {},
   "outputs": [],
   "source": []
  },
  {
   "cell_type": "markdown",
   "id": "ef07c167",
   "metadata": {},
   "source": [
    "#### 7. Crea un vector con sus valores contegan los números del 10 a 49 (★☆☆)"
   ]
  },
  {
   "cell_type": "code",
   "execution_count": null,
   "id": "896347ee",
   "metadata": {},
   "outputs": [],
   "source": []
  },
  {
   "cell_type": "markdown",
   "id": "cafcd2cd",
   "metadata": {},
   "source": [
    "#### 8. Obrenga un vector invertido (el primer elemento se convierte en el último) (★☆☆)"
   ]
  },
  {
   "cell_type": "code",
   "execution_count": null,
   "id": "e3e3a925",
   "metadata": {},
   "outputs": [],
   "source": []
  },
  {
   "cell_type": "markdown",
   "id": "edd51452",
   "metadata": {},
   "source": [
    "#### 9. Crea una matriz 3x3 cuyos valores contengan lo números del 0 al 8 (★☆☆)"
   ]
  },
  {
   "cell_type": "code",
   "execution_count": null,
   "id": "72788cce",
   "metadata": {},
   "outputs": [],
   "source": []
  },
  {
   "cell_type": "markdown",
   "id": "c06fcbd0",
   "metadata": {},
   "source": [
    "#### 10. Encuentre los elementos cuyos índice no son cero [1,2,0,0,4,0] (★☆☆)"
   ]
  },
  {
   "cell_type": "code",
   "execution_count": null,
   "id": "d0f2bec1",
   "metadata": {},
   "outputs": [],
   "source": []
  },
  {
   "cell_type": "markdown",
   "id": "0c39dca2",
   "metadata": {},
   "source": [
    "#### 11. Crea una matriz identidad de 3x3 (★☆☆)"
   ]
  },
  {
   "cell_type": "code",
   "execution_count": null,
   "id": "37a823b8",
   "metadata": {},
   "outputs": [],
   "source": []
  },
  {
   "cell_type": "markdown",
   "id": "5bbfa6b8",
   "metadata": {},
   "source": [
    "#### 12. Crea un vector 3x3x3 con valores aleatorios (★☆☆)"
   ]
  },
  {
   "cell_type": "code",
   "execution_count": null,
   "id": "b0025040",
   "metadata": {},
   "outputs": [],
   "source": []
  },
  {
   "cell_type": "markdown",
   "id": "a72f827c",
   "metadata": {},
   "source": [
    "#### 13. Crea una matriz 10x10 con valores random y encuentra el valor máximo yel mínimo (★☆☆)"
   ]
  },
  {
   "cell_type": "code",
   "execution_count": null,
   "id": "6503f47d",
   "metadata": {},
   "outputs": [],
   "source": []
  },
  {
   "cell_type": "markdown",
   "id": "b10c6138",
   "metadata": {},
   "source": [
    "#### 14. Crea un vector de tamaño 30 con valores aleatorios y encuentre el valor promedio (★☆☆)"
   ]
  },
  {
   "cell_type": "code",
   "execution_count": null,
   "id": "bd492357",
   "metadata": {},
   "outputs": [],
   "source": []
  },
  {
   "cell_type": "markdown",
   "id": "04884100",
   "metadata": {},
   "source": [
    "#### 15. Crea un vector 2D con los valores de 1 en el borde (es decir en la primera y última filas y columnas) con valores de 0 en el interior (★☆☆)"
   ]
  },
  {
   "cell_type": "code",
   "execution_count": null,
   "id": "82d051ea",
   "metadata": {},
   "outputs": [],
   "source": []
  },
  {
   "cell_type": "markdown",
   "id": "359d3213",
   "metadata": {},
   "source": [
    "#### 16. ¿Cómo añadir un borde (llenado con ceros) a una matriz existente? (★☆☆)"
   ]
  },
  {
   "cell_type": "code",
   "execution_count": null,
   "id": "0eb1c01d",
   "metadata": {},
   "outputs": [],
   "source": []
  },
  {
   "cell_type": "markdown",
   "id": "4b66eb1e",
   "metadata": {},
   "source": [
    "#### 17. ¿Cuál es el resultado de la siguiente expresión? (★☆☆)\n",
    "```python\n",
    "0 * np.nan\n",
    "np.nan == np.nan\n",
    "np.inf > np.nan\n",
    "np.nan - np.nan\n",
    "np.nan in set([np.nan])\n",
    "0.3 == 3 * 0.1\n",
    "```"
   ]
  },
  {
   "cell_type": "code",
   "execution_count": null,
   "id": "3ee71f7a",
   "metadata": {},
   "outputs": [],
   "source": []
  },
  {
   "cell_type": "markdown",
   "id": "429a0c86",
   "metadata": {},
   "source": [
    "#### 18. Crea una matriz 5x5 con valores 1,2,3,4 justo debajo de la diagonal (★☆☆)"
   ]
  },
  {
   "cell_type": "code",
   "execution_count": null,
   "id": "10f44bf0",
   "metadata": {},
   "outputs": [],
   "source": []
  },
  {
   "cell_type": "markdown",
   "id": "9b6e9a07",
   "metadata": {},
   "source": [
    "#### 19. Crea una matriz 8x8 y llénelo con un patrón similar al del tablero de ajedrez (★☆☆)"
   ]
  },
  {
   "cell_type": "code",
   "execution_count": null,
   "id": "aebdba22",
   "metadata": {},
   "outputs": [],
   "source": []
  },
  {
   "cell_type": "markdown",
   "id": "d53fc1cb",
   "metadata": {},
   "source": [
    "#### 20. Considere un array de dimensiones (6,7,8), ¿Cuáles son los índices (x,y,z) del 100vo elemento? (★☆☆)"
   ]
  },
  {
   "cell_type": "code",
   "execution_count": null,
   "id": "b7c2b59a",
   "metadata": {},
   "outputs": [],
   "source": []
  },
  {
   "cell_type": "markdown",
   "id": "bf8d5469",
   "metadata": {},
   "source": [
    "#### 21. Cree algo similar a un tablero de ajedez usando la función `tile` (★☆☆)"
   ]
  },
  {
   "cell_type": "code",
   "execution_count": null,
   "id": "966ec99e",
   "metadata": {},
   "outputs": [],
   "source": []
  },
  {
   "cell_type": "markdown",
   "id": "6d337c05",
   "metadata": {},
   "source": [
    "#### 22. Normalice una matriz de 5x5 que contiene valores aleatorios (normalize los elementos usando la fórmula z-score) (★☆☆)"
   ]
  },
  {
   "cell_type": "code",
   "execution_count": null,
   "id": "85d90b0f",
   "metadata": {},
   "outputs": [],
   "source": []
  },
  {
   "cell_type": "markdown",
   "id": "faf7d76b",
   "metadata": {},
   "source": [
    "#### 23. Cree un tipo de dato especial (dtype) llamada color que pueda describir el color como cuatro números del tipo unsigned bytes (RGBA) (★☆☆)\n",
    "Create a custom dtype that describes a color as four unsigned bytes (RGBA) (★☆☆)"
   ]
  },
  {
   "cell_type": "code",
   "execution_count": null,
   "id": "f614f684",
   "metadata": {},
   "outputs": [],
   "source": []
  },
  {
   "cell_type": "markdown",
   "id": "77b4f22a",
   "metadata": {},
   "source": [
    "#### 24. Multiplique una matriz 5x3 y otra 3x2 (producto cruz) (★☆☆)"
   ]
  },
  {
   "cell_type": "code",
   "execution_count": null,
   "id": "d01f0024",
   "metadata": {},
   "outputs": [],
   "source": []
  },
  {
   "cell_type": "markdown",
   "id": "46e24189",
   "metadata": {},
   "source": [
    "#### 25. Dado un array 1D, multiplica por (-1) todos los elementos que esten en el rango 3 a 8 (★☆☆)\n",
    "Given a 1D array, negate all elements which are between 3 and 8, in place. (★☆☆)"
   ]
  },
  {
   "cell_type": "code",
   "execution_count": null,
   "id": "362d4a1c",
   "metadata": {},
   "outputs": [],
   "source": []
  },
  {
   "cell_type": "markdown",
   "id": "3738329e",
   "metadata": {},
   "source": [
    "#### 26. ¿Cuál es resulatdo de la ejecución del siguiente script? (★☆☆)\n",
    "```python\n",
    "# Autor: Jake VanderPlas\n",
    "\n",
    "print(sum(range(5),-1))\n",
    "from numpy import *\n",
    "print(sum(range(5),-1))\n",
    "```"
   ]
  },
  {
   "cell_type": "code",
   "execution_count": null,
   "id": "548cd980",
   "metadata": {},
   "outputs": [],
   "source": []
  },
  {
   "cell_type": "markdown",
   "id": "f718db05",
   "metadata": {},
   "source": [
    "#### 27. Considere un vector de enteros Z, ¿Cuál de las siguientes expresiones son válidas?\n",
    "Consider an integer vector Z, which of these expressions are legal? (★☆☆)\n",
    "```python\n",
    "Z**Z\n",
    "2 << Z >> 2\n",
    "Z <- Z\n",
    "1j*Z\n",
    "Z/1/1\n",
    "Z<Z>Z\n",
    "```"
   ]
  },
  {
   "cell_type": "code",
   "execution_count": null,
   "id": "f110e639",
   "metadata": {},
   "outputs": [],
   "source": []
  },
  {
   "cell_type": "markdown",
   "id": "a54497d1",
   "metadata": {},
   "source": [
    "#### 28. ¿Cuál es el resultado de las siguientes operaciones? (★☆☆)\n",
    "```python\n",
    "np.array(0) / np.array(0)\n",
    "np.array(0) // np.array(0)\n",
    "np.array([np.nan]).astype(int).astype(float)\n",
    "```"
   ]
  },
  {
   "cell_type": "code",
   "execution_count": null,
   "id": "ec1a64c5",
   "metadata": {},
   "outputs": [],
   "source": []
  },
  {
   "cell_type": "markdown",
   "id": "c3247d4d",
   "metadata": {},
   "source": [
    "#### 29. ¿Cómo redondear alejado de cero en un vector con valores tipo float? (★☆☆)\n",
    "Es decir que si n = -0.12  redondear a -1 y si n = 1.2 redondear a 2\n",
    "How to round away from zero a float array ? (★☆☆)"
   ]
  },
  {
   "cell_type": "code",
   "execution_count": null,
   "id": "38415e00",
   "metadata": {},
   "outputs": [],
   "source": []
  },
  {
   "cell_type": "markdown",
   "id": "68ef4141",
   "metadata": {},
   "source": [
    "#### 30. ¿Cómo encontrar valores comunes entre dos vectores? (★☆☆)"
   ]
  },
  {
   "cell_type": "code",
   "execution_count": null,
   "id": "719e3ffe",
   "metadata": {},
   "outputs": [],
   "source": []
  },
  {
   "cell_type": "markdown",
   "id": "b7c14d07",
   "metadata": {},
   "source": [
    "#### 31. ¿Cómo ignorar todos los mensajes de warning de numpy (no recomendado)? (★☆☆)"
   ]
  },
  {
   "cell_type": "code",
   "execution_count": null,
   "id": "8d96a110",
   "metadata": {},
   "outputs": [],
   "source": []
  },
  {
   "cell_type": "markdown",
   "id": "c929336f",
   "metadata": {},
   "source": [
    "#### 32. ¿Es la siguiente expresión verdadera (True)? (★☆☆)\n",
    "```python\n",
    "np.sqrt(-1) == np.emath.sqrt(-1)\n",
    "```"
   ]
  },
  {
   "cell_type": "code",
   "execution_count": null,
   "id": "3d0ad53a",
   "metadata": {},
   "outputs": [],
   "source": []
  },
  {
   "cell_type": "markdown",
   "id": "60d27c2f",
   "metadata": {},
   "source": [
    "#### 33. ¿Cómo obtener las fechas de ayer, hoy y mañana? (★☆☆)"
   ]
  },
  {
   "cell_type": "code",
   "execution_count": null,
   "id": "8661a5e7",
   "metadata": {},
   "outputs": [],
   "source": []
  },
  {
   "cell_type": "markdown",
   "id": "82d74979",
   "metadata": {},
   "source": [
    "#### 34. ¿Cómo obtener todas la fechas correspondientes al mes de Julio del 2016? (★★☆)"
   ]
  },
  {
   "cell_type": "code",
   "execution_count": null,
   "id": "700dc357",
   "metadata": {},
   "outputs": [],
   "source": []
  },
  {
   "cell_type": "markdown",
   "id": "d6f13fc2",
   "metadata": {},
   "source": [
    "#### 35. ¿Cómo calcular ((A+B)*(-A/2)) (sin usar la función `copy`)?\n",
    "How to compute ((A+B)*(-A/2)) in place (without copy)? (★★☆)"
   ]
  },
  {
   "cell_type": "code",
   "execution_count": null,
   "id": "aa56e3dc",
   "metadata": {},
   "outputs": [],
   "source": []
  },
  {
   "cell_type": "markdown",
   "id": "4d9008b7",
   "metadata": {},
   "source": [
    "#### 36. Extraiga la parte entera de valores positivos de un vector que contenga valores aleatorios, usando 4 diferentes métodos (★★☆)\n",
    "Extract the integer part of a random array of positive numbers using 4 different methods (★★☆)"
   ]
  },
  {
   "cell_type": "code",
   "execution_count": null,
   "id": "7cd6563b",
   "metadata": {},
   "outputs": [],
   "source": []
  },
  {
   "cell_type": "markdown",
   "id": "c86dac90",
   "metadata": {},
   "source": [
    "#### 37. Crea una matriz 5x5 con sus valores dentro del rango 0 - 4 (★★☆)\n",
    "Create a 5x5 matrix with row values ranging from 0 to 4 (★★☆)"
   ]
  },
  {
   "cell_type": "code",
   "execution_count": null,
   "id": "d9fd8582",
   "metadata": {},
   "outputs": [],
   "source": []
  },
  {
   "cell_type": "markdown",
   "id": "37c54170",
   "metadata": {},
   "source": [
    "#### 38. Cree una función que use \"yield\" para obtener 10 números enteros y use la función para construir un array(★☆☆)\n",
    "Consider a generator function that generates 10 integers and use it to build an array (★☆☆)"
   ]
  },
  {
   "cell_type": "code",
   "execution_count": null,
   "id": "e14b5afb",
   "metadata": {},
   "outputs": [],
   "source": []
  },
  {
   "cell_type": "markdown",
   "id": "6469bd88",
   "metadata": {},
   "source": [
    "#### 39. Cree un vector de tamaño 10 con los valores en el rango 0 a 1 (0 y 1 excluidos). (★★☆)"
   ]
  },
  {
   "cell_type": "code",
   "execution_count": null,
   "id": "2949525a",
   "metadata": {},
   "outputs": [],
   "source": []
  },
  {
   "cell_type": "markdown",
   "id": "99fd2b60",
   "metadata": {},
   "source": [
    "#### 40. Cree un vector de tamaño 10 con valores aleatorios, luego ordénelos (★★☆)."
   ]
  },
  {
   "cell_type": "code",
   "execution_count": null,
   "id": "5977023b",
   "metadata": {},
   "outputs": [],
   "source": []
  },
  {
   "cell_type": "markdown",
   "id": "864f263c",
   "metadata": {},
   "source": [
    "#### 41. ¿Cómo se sumaría un pequeño vector de manera que lo haga más rapidamente que usando la función np.sum? (★★☆)"
   ]
  },
  {
   "cell_type": "code",
   "execution_count": null,
   "id": "7bb9d43d",
   "metadata": {},
   "outputs": [],
   "source": []
  },
  {
   "cell_type": "markdown",
   "id": "a3e66fb3",
   "metadata": {},
   "source": [
    "#### 42. Considere 2 vectores A y B ¿Cómo verifica que son iguales? (★★☆)\n",
    "Consider two random array A and B, check if they are equal"
   ]
  },
  {
   "cell_type": "code",
   "execution_count": null,
   "id": "e3b9d893",
   "metadata": {},
   "outputs": [],
   "source": []
  },
  {
   "cell_type": "markdown",
   "id": "b3071999",
   "metadata": {},
   "source": [
    "#### 43. Cree un vector inmutable (de sólo lectura) (★★☆)\n",
    "Make an array immutable (read-only)"
   ]
  },
  {
   "cell_type": "code",
   "execution_count": null,
   "id": "39288984",
   "metadata": {},
   "outputs": [],
   "source": []
  },
  {
   "cell_type": "markdown",
   "id": "cd5c73fb",
   "metadata": {},
   "source": [
    "#### 44. Cree una maetriz 10x2 con elementos aleatorios,representando coordenadas cartesianas, conviertalas a coordenadas polares (★★☆)."
   ]
  },
  {
   "cell_type": "code",
   "execution_count": null,
   "id": "e578a98c",
   "metadata": {},
   "outputs": [],
   "source": []
  },
  {
   "cell_type": "markdown",
   "id": "6deebe72",
   "metadata": {},
   "source": [
    "#### 45. Crea un vector con 10 elementos aleatorios y reemplace el valor máximo con 0 (★★☆)"
   ]
  },
  {
   "cell_type": "code",
   "execution_count": null,
   "id": "1c9e98c8",
   "metadata": {},
   "outputs": [],
   "source": []
  },
  {
   "cell_type": "markdown",
   "id": "c55d51d9",
   "metadata": {},
   "source": [
    "#### 46. Crea un vector structurado (structured array) con `x` e `y` como coordenadas, que generen un grilla (meshgrid) en el área [0, 1]x[0, 1] (★★☆)\n",
    "Create a structured array with `x` and `y` coordinates covering the [0,1]x[0,1] area"
   ]
  },
  {
   "cell_type": "code",
   "execution_count": null,
   "id": "90149d7f",
   "metadata": {},
   "outputs": [],
   "source": []
  },
  {
   "cell_type": "markdown",
   "id": "92a4fc9a",
   "metadata": {},
   "source": [
    "#### 47. Dados dos vectores, X, e Y, construya la matriz de Cauchy C (Cij =1/(xi - yj)) (★★☆)"
   ]
  },
  {
   "cell_type": "code",
   "execution_count": null,
   "id": "d7fc6e89",
   "metadata": {},
   "outputs": [],
   "source": []
  },
  {
   "cell_type": "markdown",
   "id": "c8343316",
   "metadata": {},
   "source": [
    "#### 48. Imprima el máximo y mínimo valor representable para un tipo de datos de numpy escalar (★★☆)"
   ]
  },
  {
   "cell_type": "code",
   "execution_count": null,
   "id": "36ad8f40",
   "metadata": {},
   "outputs": [],
   "source": []
  },
  {
   "cell_type": "markdown",
   "id": "b2fda336",
   "metadata": {},
   "source": [
    "#### 49. ¿Cómo imprimir todos los valores de un vector? (★★☆)\n",
    "(Recuerde que cuando el vector es muy grade numpy suele mostrarlos en secciones o sólo una parte)"
   ]
  },
  {
   "cell_type": "code",
   "execution_count": null,
   "id": "f1d61fb4",
   "metadata": {},
   "outputs": [],
   "source": []
  },
  {
   "cell_type": "markdown",
   "id": "2dd40788",
   "metadata": {},
   "source": [
    "#### 50. ¿Cómo encontrar el valor más cercano a un valor(valor escalar) en un vector? (★★☆)"
   ]
  },
  {
   "cell_type": "code",
   "execution_count": null,
   "id": "1f29f54e",
   "metadata": {},
   "outputs": [],
   "source": []
  },
  {
   "cell_type": "markdown",
   "id": "29df1e9b",
   "metadata": {},
   "source": [
    "#### 51. Crea un vector estructurada (structured array) representado la posición (x, y) y el color (r, g, b) (★★☆)"
   ]
  },
  {
   "cell_type": "code",
   "execution_count": null,
   "id": "7f003221",
   "metadata": {},
   "outputs": [],
   "source": []
  },
  {
   "cell_type": "markdown",
   "id": "33cc2465",
   "metadata": {},
   "source": [
    "#### 52. Considere un vector de elementos aleatorios, de dimensiones 100x2, representado coordenadas (x, y), encuentre las distancias de entre todos los puntos en una matriz 100x100 (★★☆)"
   ]
  },
  {
   "cell_type": "code",
   "execution_count": null,
   "id": "70a65306",
   "metadata": {},
   "outputs": [],
   "source": []
  },
  {
   "cell_type": "markdown",
   "id": "66ea6e21",
   "metadata": {},
   "source": [
    "#### 53. ¿Cómo convertir un vector de float(32 bits) a un vector entero (32 bits) ?"
   ]
  },
  {
   "cell_type": "code",
   "execution_count": null,
   "id": "2c11017a",
   "metadata": {},
   "outputs": [],
   "source": []
  },
  {
   "cell_type": "markdown",
   "id": "a4718773",
   "metadata": {},
   "source": [
    "#### 54. ¿Cómo podrías convertir el siguiente texto en una matriz de numpy? (★★☆)\n",
    "```\n",
    "1, 2, 3, 4, 5\n",
    "6,  ,  , 7, 8\n",
    " ,  , 9,10,11\n",
    "```"
   ]
  },
  {
   "cell_type": "code",
   "execution_count": null,
   "id": "727b13b0",
   "metadata": {},
   "outputs": [],
   "source": []
  },
  {
   "cell_type": "markdown",
   "id": "ca2dbbe8",
   "metadata": {},
   "source": [
    "#### 55. ¿Cuál es el equivalente de la función `enumerate` para vectores numpy? (★★☆)"
   ]
  },
  {
   "cell_type": "code",
   "execution_count": null,
   "id": "c8aa1e4c",
   "metadata": {},
   "outputs": [],
   "source": []
  },
  {
   "cell_type": "markdown",
   "id": "b9bea43b",
   "metadata": {},
   "source": [
    "#### 56. Genera una matriz 2d tipo campana de Gauss típica (2D Gaussian-like array) (★★☆)"
   ]
  },
  {
   "cell_type": "code",
   "execution_count": null,
   "id": "9687e165",
   "metadata": {},
   "outputs": [],
   "source": []
  },
  {
   "cell_type": "markdown",
   "id": "15e7804f",
   "metadata": {},
   "source": [
    "#### 57. ¿Cómo poner aleatoriamente p elementos en un array 2d? (★★☆)"
   ]
  },
  {
   "cell_type": "code",
   "execution_count": null,
   "id": "731fdd47",
   "metadata": {},
   "outputs": [],
   "source": []
  },
  {
   "cell_type": "markdown",
   "id": "f59b393d",
   "metadata": {},
   "source": [
    "#### 58. Dada una matriz, resta a cada elemento de una fila el promedio de la fila (★★☆)\n",
    "Subtract the mean of each row of a matrix (★★☆)"
   ]
  },
  {
   "cell_type": "code",
   "execution_count": null,
   "id": "54fd86d0",
   "metadata": {},
   "outputs": [],
   "source": []
  },
  {
   "cell_type": "markdown",
   "id": "1149b935",
   "metadata": {},
   "source": [
    "#### 59. Cómo ordenar una matriz teniendo como referencia la n ava columna (★★☆)\n",
    "How to sort an array by the nth column? (★★☆)"
   ]
  },
  {
   "cell_type": "code",
   "execution_count": null,
   "id": "ade0ac25",
   "metadata": {},
   "outputs": [],
   "source": []
  },
  {
   "cell_type": "markdown",
   "id": "98834ec7",
   "metadata": {},
   "source": [
    "#### 60. ¿Cómo averiguar si una matriz tienen columnas nulas? (★★☆)\n",
    "How to tell if a given 2D array has null columns? (★★☆)"
   ]
  },
  {
   "cell_type": "code",
   "execution_count": null,
   "id": "509afae0",
   "metadata": {},
   "outputs": [],
   "source": []
  },
  {
   "cell_type": "markdown",
   "id": "a0dbe762",
   "metadata": {},
   "source": [
    "#### 61. Encuentre el valor más cercano a un valor dado en un vector (★★☆) \n",
    "Find the nearest value from a given value in an array (★★☆)"
   ]
  },
  {
   "cell_type": "code",
   "execution_count": null,
   "id": "d45d5506",
   "metadata": {},
   "outputs": [],
   "source": []
  },
  {
   "cell_type": "markdown",
   "id": "d5acbb90",
   "metadata": {},
   "source": [
    "#### 62. Considere 2 arrays con dimensiones (1, 3) y (3, 1), ¿Cómo calcular su suma usando un iterador? (★★☆)\n",
    "Considering two arrays with shape (1,3) and (3,1), how to compute their sum using an iterator? (★★☆)"
   ]
  },
  {
   "cell_type": "code",
   "execution_count": null,
   "id": "4d4473f0",
   "metadata": {},
   "outputs": [],
   "source": []
  },
  {
   "cell_type": "markdown",
   "id": "dcc0d91b",
   "metadata": {},
   "source": [
    "#### 63. Crea un clase vector (vector class) que tenga name como atributo (★★☆)\n",
    "Create an array class that has a name attribute (★★☆)"
   ]
  },
  {
   "cell_type": "code",
   "execution_count": null,
   "id": "23ee5afe",
   "metadata": {},
   "outputs": [],
   "source": []
  },
  {
   "cell_type": "markdown",
   "id": "f9c75b85",
   "metadata": {},
   "source": [
    "#### 64. Dado un vector Z, ¿Cómo añadir 1 a cada elemento en las posiciones dadas por otro vector I? (tenga cuidado con los índices repetidos) (★★★)\n",
    "Consider a given vector, how to add 1 to each element indexed by a second vector (be careful with repeated indices)? (★★★)"
   ]
  },
  {
   "cell_type": "code",
   "execution_count": null,
   "id": "1fded232",
   "metadata": {},
   "outputs": [],
   "source": []
  },
  {
   "cell_type": "markdown",
   "id": "8294c290",
   "metadata": {},
   "source": [
    "#### 65. ¿Cómo acumular (sumar) los elementos de un vector X en un vector F de acuerdo a un vector de posiciones I? (★★★)\n",
    "```python\n",
    "X = [1,2,3,4,5,6]\n",
    "I = [1,3,9,3,4,1]\n",
    "# Resultado F = [0, 7, 0, 6, 5, 0, 0, 0, 0, 3]\n",
    "```"
   ]
  },
  {
   "cell_type": "code",
   "execution_count": null,
   "id": "d16dd0b9",
   "metadata": {},
   "outputs": [],
   "source": []
  },
  {
   "cell_type": "markdown",
   "id": "8ac3adb5",
   "metadata": {},
   "source": [
    "#### 66. Considere un numpy array de dimensiones (w, h, 3) que representa una imagen, calcule el número de colores únicos (★★☆)\n",
    "Considering a (w,h,3) image of (dtype=ubyte), compute the number of unique colors (★★☆)"
   ]
  },
  {
   "cell_type": "code",
   "execution_count": null,
   "id": "ae3d4ec9",
   "metadata": {},
   "outputs": [],
   "source": []
  },
  {
   "cell_type": "markdown",
   "id": "d6649b1e",
   "metadata": {},
   "source": [
    "#### 67. Considere un array de 4 dimensiones, ¿Cómo obtener la suma de las dos últimas dimensiones ó ejes? (★★★)\n",
    "Considering a four dimensions array, how to get sum over the last two axis at once? (★★★)"
   ]
  },
  {
   "cell_type": "code",
   "execution_count": null,
   "id": "c3419531",
   "metadata": {},
   "outputs": [],
   "source": []
  },
  {
   "cell_type": "markdown",
   "id": "a5ccf2a7",
   "metadata": {},
   "source": [
    "#### 68. Considere un vector unidemensional D, ¿cómo calcular los promedios de los subsets de D, si se tienen un vector S del mismo tamaño describiendo los índices de las posiciones de las cuáles deben obtenerse los promedios?(★★★)\n",
    "```python\n",
    "# Sea por ejemplo D\n",
    "D = [0.3, 0.5, 0.2, 0.7, 1., -0.6]\n",
    "# y S\n",
    "S = [0, 1, 1, 2, 2, 2]\n",
    "# El vector de los promedios será\n",
    "R = [0.3, 0.35, 0.36667]\n",
    "```"
   ]
  },
  {
   "cell_type": "code",
   "execution_count": null,
   "id": "17898142",
   "metadata": {},
   "outputs": [],
   "source": []
  },
  {
   "cell_type": "markdown",
   "id": "a0c4c05e",
   "metadata": {},
   "source": [
    "#### 69. ¿Cómo obtener la diagonal de una matriz que es resultado de la operación entre dos matrices `np.dot(A, B)`? Use las matrices A y B para su respuesta.(★★★)"
   ]
  },
  {
   "cell_type": "code",
   "execution_count": null,
   "id": "74f04ea5",
   "metadata": {},
   "outputs": [],
   "source": []
  },
  {
   "cell_type": "markdown",
   "id": "e109a426",
   "metadata": {},
   "source": [
    "#### 70. Sea el vector [1, 2, 3, 4, 5], ¿Cómo construir un nuevo vector con 3 consecutivos zeros intercalados entre cada valor?  (★★★)\n",
    "Consider the vector [1, 2, 3, 4, 5], how to build a new vector with 3 consecutive zeros interleaved between each value? (★★★)"
   ]
  },
  {
   "cell_type": "code",
   "execution_count": null,
   "id": "a1af496d",
   "metadata": {},
   "outputs": [],
   "source": []
  },
  {
   "cell_type": "markdown",
   "id": "e156ffad",
   "metadata": {},
   "source": [
    "#### 71. Sea un arrays de dimensiones (5, 5, 3), cómo multiplicarlo por un array de dimensiones (5, 5)? (★★★)"
   ]
  },
  {
   "cell_type": "code",
   "execution_count": null,
   "id": "b82dbb1c",
   "metadata": {},
   "outputs": [],
   "source": []
  },
  {
   "cell_type": "markdown",
   "id": "a7117a44",
   "metadata": {},
   "source": [
    "#### 72. ¿Cómo intercambiar dos filas en un array? (★★★)"
   ]
  },
  {
   "cell_type": "code",
   "execution_count": null,
   "id": "b1b8858c",
   "metadata": {},
   "outputs": [],
   "source": []
  },
  {
   "cell_type": "markdown",
   "id": "acc1d564",
   "metadata": {},
   "source": [
    "#### 73. Sea un set de tripletes describiendo 10 triangulos (con lados compartidos), encuentre el set de las líneas que componen todos lo triangulos. (★★★)\n",
    "Consider a set of 10 triplets describing 10 triangles (with shared vertices), find the set of unique line segments composing all the  triangles (★★★)"
   ]
  },
  {
   "cell_type": "code",
   "execution_count": null,
   "id": "477b7ce4",
   "metadata": {},
   "outputs": [],
   "source": []
  },
  {
   "cell_type": "markdown",
   "id": "66ae083e",
   "metadata": {},
   "source": [
    "#### 74. Dado un array ordenado C qur corresponde a el resultado de un bitcount, ¿cóm oproducir un array A tal que np.bincount(A) = C ? (★★★)"
   ]
  },
  {
   "cell_type": "code",
   "execution_count": null,
   "id": "7e3e5045",
   "metadata": {},
   "outputs": [],
   "source": []
  },
  {
   "cell_type": "markdown",
   "id": "2e617ca3",
   "metadata": {},
   "source": [
    "#### 75. ¿Cómo calcular los promedios de rango variable sobre un array? (★★★)\n",
    "```python\n",
    "# Sea\n",
    "Z = [0, 1, 2, 3, 4, 5, 6, 7, 8, 9]\n",
    "# Sus promedios en un rango de n = 3\n",
    "[1, 2, 3, 4, 5, 6, 7, 8]\n",
    "```"
   ]
  },
  {
   "cell_type": "code",
   "execution_count": null,
   "id": "75e95b8e",
   "metadata": {},
   "outputs": [],
   "source": []
  },
  {
   "cell_type": "markdown",
   "id": "bf69e033",
   "metadata": {},
   "source": [
    "#### 76. Sea un vector Z unidimensional, contruya un vector de dos dimensiones (matriz) del cuál su primera fila sea (Z[0],Z[1],Z[2]), su segunda (Z[1],Z[2],Z[3]), es decir que cada siguiente fila empiece con el segundo elementos de la anterior fila, note que (la última fila debería ser (Z[-3],Z[-2],Z[-1]) (★★★)\n",
    "\n",
    "```python\n",
    "# Sea Z y R lo que se busca\n",
    "Z = [0 1 2 3 4]\n",
    "R = [[0 1 2]\n",
    "     [1 2 3]\n",
    "     [2 3 4]]\n",
    "```"
   ]
  },
  {
   "cell_type": "code",
   "execution_count": null,
   "id": "2106e41a",
   "metadata": {},
   "outputs": [],
   "source": []
  },
  {
   "cell_type": "markdown",
   "id": "a1ade1c6",
   "metadata": {},
   "source": [
    "#### 77. ¿Cómo negar un valor boolean, o cambiar el signo de un valor float? (inplace) (★★★)"
   ]
  },
  {
   "cell_type": "code",
   "execution_count": null,
   "id": "5b183a3e",
   "metadata": {},
   "outputs": [],
   "source": []
  },
  {
   "cell_type": "markdown",
   "id": "b893b018",
   "metadata": {},
   "source": [
    "#### 78. Sean dos sets puntos P0 y P1 tienen el mismo tamaño, el primer punto de P0 describe un línea con el primer punto de P1 y así con todos los elementos de P0 y P1, también se nos da un punto P. \n",
    "¿Cómo calcular la distancia del punto P a cada linea que es descrita por los pares de puntos de los sets? (★★★)"
   ]
  },
  {
   "cell_type": "code",
   "execution_count": null,
   "id": "beb61131",
   "metadata": {},
   "outputs": [],
   "source": []
  },
  {
   "cell_type": "markdown",
   "id": "a24f175b",
   "metadata": {},
   "source": [
    "#### 79. Sean dos sets puntos P0 y P1 tienen el mismo tamaño, el primer punto de P0 describe un línea con el primer punto de P1 y así con todos los elementos de P0 y P1, también se nos da un set de puntos P. \n",
    "¿Cómo calcular la distancia de los puntos  de P a cada linea que es descrita por los pares de puntos de los sets? (★★★)"
   ]
  },
  {
   "cell_type": "code",
   "execution_count": null,
   "id": "249d76f1",
   "metadata": {},
   "outputs": [],
   "source": []
  },
  {
   "cell_type": "markdown",
   "id": "0d54e146",
   "metadata": {},
   "source": [
    "#### 80. Consider an arbitrary array, write a function that extract a subpart with a fixed shape and centered on a given element (pad with a `fill` value when necessary) (★★★)"
   ]
  },
  {
   "cell_type": "code",
   "execution_count": null,
   "id": "3d6f2307",
   "metadata": {},
   "outputs": [],
   "source": []
  },
  {
   "cell_type": "markdown",
   "id": "84a2b0f2",
   "metadata": {},
   "source": [
    "#### 81. Sea el vector Z = [1,2,3,4,5,6,7,8,9,10,11,12,13,14], ¿Cómo generar el vector R = [[1,2,3,4], [2,3,4,5], [3,4,5,6], ..., [11,12,13,14]]? (★★★)"
   ]
  },
  {
   "cell_type": "code",
   "execution_count": null,
   "id": "a74f0b2a",
   "metadata": {},
   "outputs": [],
   "source": []
  },
  {
   "cell_type": "markdown",
   "id": "46be2914",
   "metadata": {},
   "source": [
    "#### 82. Calcule el rango de un matriz (★★★)"
   ]
  },
  {
   "cell_type": "code",
   "execution_count": null,
   "id": "de0d4285",
   "metadata": {},
   "outputs": [],
   "source": []
  },
  {
   "cell_type": "markdown",
   "id": "d3622f57",
   "metadata": {},
   "source": [
    "#### 83. ¿Cómo encontrar el valor más frecuente en un array? (★★★)"
   ]
  },
  {
   "cell_type": "code",
   "execution_count": null,
   "id": "519d9088",
   "metadata": {},
   "outputs": [],
   "source": []
  },
  {
   "cell_type": "markdown",
   "id": "deb8cd4e",
   "metadata": {},
   "source": [
    "#### 84. Extract all the contiguous 3x3 blocks from a random 10x10 matrix (★★★)"
   ]
  },
  {
   "cell_type": "code",
   "execution_count": null,
   "id": "87883d88",
   "metadata": {},
   "outputs": [],
   "source": []
  },
  {
   "cell_type": "markdown",
   "id": "357c98d7",
   "metadata": {},
   "source": [
    "#### 85. Crea un matriz cuya subclase tenga Z[i,j] = Z[j,i] (★★★)\n",
    "Create a 2D array subclass such that Z[i,j] == Z[j,i] (★★★)"
   ]
  },
  {
   "cell_type": "code",
   "execution_count": null,
   "id": "7d932ef7",
   "metadata": {},
   "outputs": [],
   "source": []
  },
  {
   "cell_type": "markdown",
   "id": "ed3c144e",
   "metadata": {},
   "source": [
    "#### 86. Consider a set of p matrices wich shape (n,n) and a set of p vectors with shape (n,1). How to compute the sum of of the p matrix products at once? (result has shape (n,1)) (★★★)"
   ]
  },
  {
   "cell_type": "code",
   "execution_count": null,
   "id": "fbaf5da4",
   "metadata": {},
   "outputs": [],
   "source": []
  },
  {
   "cell_type": "markdown",
   "id": "1aa41089",
   "metadata": {},
   "source": [
    "#### 87. Sea un 16x16 array, ¿cómo obtener la suma en bloques (tamaño del bloque 4x4)? (★★★)"
   ]
  },
  {
   "cell_type": "code",
   "execution_count": null,
   "id": "5ff7fffc",
   "metadata": {},
   "outputs": [],
   "source": []
  },
  {
   "cell_type": "markdown",
   "id": "20281480",
   "metadata": {},
   "source": [
    "#### 88. ¿Cómo implementar el Juego de la Vida usando numpy arrays? (★★★)\n",
    "Juego de la Vida (Game Life)\n",
    "Se trata de un juego de cero jugadores, lo que quiere decir que su evolución está determinada por el estado inicial y no necesita ninguna entrada de datos posterior. El \"tablero de juego\" es una malla plana formada por cuadrados (las \"células\") que se extiende por el infinito en todas las direcciones. Por tanto, cada célula tiene 8 células \"vecinas\", que son las que están próximas a ella, incluidas las diagonales. Las células tienen dos estados: están \"vivas\" o \"muertas\" (o \"encendidas\" y \"apagadas\"). El estado de las células evoluciona a lo largo de unidades de tiempo discretas (se podría decir que por turnos). El estado de todas las células se tiene en cuenta para calcular el estado de las mismas al turno siguiente. Todas las células se actualizan simultáneamente en cada turno, siguiendo estas reglas:\n",
    "    Nace: Si una célula muerta tiene exactamente 3 células vecinas vivas \"nace\" (es decir, al turno siguiente estará viva).\n",
    "    Muere: una célula viva puede morir por uno de 2 casos:\n",
    "        Sobrepoblación: si tiene más de tres vecinos alrededor.\n",
    "        Aislamiento: si tiene solo un vecino alrededor o ninguno.\n",
    "    Vive: una célula se mantiene viva si tiene 2 o 3 vecinos a su alrededor."
   ]
  },
  {
   "cell_type": "code",
   "execution_count": null,
   "id": "3f345783",
   "metadata": {},
   "outputs": [],
   "source": []
  },
  {
   "cell_type": "markdown",
   "id": "1c2a0bca",
   "metadata": {},
   "source": [
    "#### 89. ¿Cómo obtener el enésimo (n-avo) valor más grande de un vector? (★★★)"
   ]
  },
  {
   "cell_type": "code",
   "execution_count": null,
   "id": "aac3c4e7",
   "metadata": {},
   "outputs": [],
   "source": []
  },
  {
   "cell_type": "markdown",
   "id": "09ccff50",
   "metadata": {},
   "source": [
    "#### 90. Dado un arbitrario número de vectores, contruya el producto cartesiano (la combinación de cada elemento con todos lo elementos) (★★★)"
   ]
  },
  {
   "cell_type": "code",
   "execution_count": null,
   "id": "21819be9",
   "metadata": {},
   "outputs": [],
   "source": []
  },
  {
   "cell_type": "markdown",
   "id": "55e19c58",
   "metadata": {},
   "source": [
    "#### 91. How to create a record array from a regular array? (★★★)"
   ]
  },
  {
   "cell_type": "code",
   "execution_count": null,
   "id": "defc0f1a",
   "metadata": {},
   "outputs": [],
   "source": []
  },
  {
   "cell_type": "markdown",
   "id": "cd5fb61d",
   "metadata": {},
   "source": [
    "#### 92. Dado un vector muy largo Z, calcule Z elevado a la potencia 3 usando 3 diferentes métodos (★★★)"
   ]
  },
  {
   "cell_type": "code",
   "execution_count": null,
   "id": "edf3e30f",
   "metadata": {},
   "outputs": [],
   "source": []
  },
  {
   "cell_type": "markdown",
   "id": "8ce0dccf",
   "metadata": {},
   "source": [
    "#### 93. Dados dos arrays A y B de tamaños (8, 3) y (2, 2) repectivamente. Cómo encontrar las fila de A que contengan elementos de cada fila de B \n",
    "Consider two arrays A and B of shape (8,3) and (2,2). How to find rows of A that contain elements of each row of B regardless of the order of the elements in B? (★★★)"
   ]
  },
  {
   "cell_type": "code",
   "execution_count": null,
   "id": "60ca0141",
   "metadata": {},
   "outputs": [],
   "source": []
  },
  {
   "cell_type": "markdown",
   "id": "51cddd96",
   "metadata": {},
   "source": [
    "#### 94. Dada una matriz 10x3, extraiga las filas con valores no iguales (Ejemplo [2,2,3]) (★★★)"
   ]
  },
  {
   "cell_type": "code",
   "execution_count": null,
   "id": "cedb6965",
   "metadata": {},
   "outputs": [],
   "source": []
  },
  {
   "cell_type": "markdown",
   "id": "e1081465",
   "metadata": {},
   "source": [
    "#### 95. Convierta un vector de enteros a una matriz que represente los enteros en binario (★★★)\n",
    "Convert a vector of ints into a matrix binary representation (★★★)"
   ]
  },
  {
   "cell_type": "code",
   "execution_count": null,
   "id": "1823cf3b",
   "metadata": {},
   "outputs": [],
   "source": []
  },
  {
   "cell_type": "markdown",
   "id": "3c57aca7",
   "metadata": {},
   "source": [
    "#### 96. Dadas dos matrices, ¿Cómo extraer filas que sean únicas? (★★★)\n",
    "Given a two dimensional array, how to extract unique rows? (★★★)"
   ]
  },
  {
   "cell_type": "code",
   "execution_count": null,
   "id": "6c853c18",
   "metadata": {},
   "outputs": [],
   "source": []
  },
  {
   "cell_type": "markdown",
   "id": "79b00f12",
   "metadata": {},
   "source": [
    "#### 97. Considere dos vectores A y B, escriba usando `eisum` el equivalente de las funciones `inner`, `sum`, `outer` y `mul` (★★★)\n",
    "Considering 2 vectors A & B, write the einsum equivalent of inner, outer, sum, and mul function (★★★)"
   ]
  },
  {
   "cell_type": "code",
   "execution_count": null,
   "id": "3ef8a13c",
   "metadata": {},
   "outputs": [],
   "source": []
  },
  {
   "cell_type": "markdown",
   "id": "0b03aad8",
   "metadata": {},
   "source": [
    "#### 98. Considering a path described by two vectors (X,Y), how to sample it using equidistant samples (★★★)?"
   ]
  },
  {
   "cell_type": "code",
   "execution_count": null,
   "id": "8ccc6179",
   "metadata": {},
   "outputs": [],
   "source": []
  },
  {
   "cell_type": "markdown",
   "id": "c2ada24d",
   "metadata": {},
   "source": [
    "#### 99. Dado un entero n y una matriz X, seleccione de X las filas que pueden ser interpretadas como extraídas de una distribución multinomial con n grados.\n",
    "Es decir las filas que contengan enteros y que suman n. (★★★)\n",
    "Given an integer n and a 2D array X, select from X the rows which can be interpreted as draws from a multinomial distribution with n degrees, \n",
    "i.e., the rows which only contain integers and which sum to n. (★★★)"
   ]
  },
  {
   "cell_type": "code",
   "execution_count": null,
   "id": "01a212d3",
   "metadata": {},
   "outputs": [],
   "source": []
  },
  {
   "cell_type": "markdown",
   "id": "e42614fa",
   "metadata": {},
   "source": [
    "#### 100. Calcule con un intervalo de confianza del 95% el promedio de un vector X.\n",
    "(es decir, volver a muestrear los elementos ddel vector N veces, calcular la media de cada muestra y luego calcular percentiles sobre los promedios). (★★★)\n",
    "Compute bootstrapped 95% confidence intervals for the mean of a 1D array X \n",
    "(i.e., resample the elements of an array with replacement N times, compute the mean of each sample, and then compute percentiles over the means). (★★★)"
   ]
  },
  {
   "cell_type": "code",
   "execution_count": null,
   "id": "18b6f2f8",
   "metadata": {},
   "outputs": [],
   "source": []
  }
 ],
 "metadata": {},
 "nbformat": 4,
 "nbformat_minor": 5
}
